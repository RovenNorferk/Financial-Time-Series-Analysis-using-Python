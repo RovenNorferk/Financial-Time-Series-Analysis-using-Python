{
 "cells": [
  {
   "cell_type": "markdown",
   "id": "0fd6a7ee-19b2-4090-96c1-e4556eedf98a",
   "metadata": {},
   "source": [
    "## Importing the relevant packages"
   ]
  },
  {
   "cell_type": "code",
   "execution_count": 1,
   "id": "05731ae4-05d2-4855-947c-441e1e2942b8",
   "metadata": {},
   "outputs": [],
   "source": [
    "import pandas as pd\n",
    "import numpy as np\n",
    "import matplotlib.pyplot as plt\n",
    "import statsmodels.graphics.tsaplots as sgt\n",
    "import statsmodels.tsa.stattools as sts\n",
    "from statsmodels.tsa.arima.model import ARIMA\n",
    "from scipy.stats.distributions import chi2 \n",
    "from math import sqrt\n",
    "import seaborn as sns\n",
    "sns.set()\n",
    "import warnings\n",
    "warnings.filterwarnings(\"ignore\")"
   ]
  },
  {
   "cell_type": "markdown",
   "id": "4aeefd47-cf5a-4628-aa49-2a36d031fe34",
   "metadata": {},
   "source": [
    "## Importing the Data and Pre-processing"
   ]
  },
  {
   "cell_type": "code",
   "execution_count": 2,
   "id": "967f49ae-6ef8-4306-8903-38fc2a25f38f",
   "metadata": {},
   "outputs": [],
   "source": [
    "raw_csv_data = pd.read_csv(\"https://raw.githubusercontent.com/a7madmostafa/365datascience/master/20%20-%20Time%20Series%20Analysis%20in%20Python/3_Introduction%20to%20Time%20Series%20in%20Python/1_Introduction%20to%20Time%20Series%20Data%20(3%3A56)/Index2018.csv\") \n",
    "df_comp=raw_csv_data.copy()\n",
    "df_comp.date = pd.to_datetime(df_comp.date, dayfirst = True)\n",
    "df_comp.set_index(\"date\", inplace=True)\n",
    "df_comp=df_comp.asfreq('b')\n",
    "df_comp=df_comp.ffill()"
   ]
  },
  {
   "cell_type": "code",
   "execution_count": 3,
   "id": "dc500c02-bbfe-4905-939d-cba5f759c77e",
   "metadata": {},
   "outputs": [],
   "source": [
    "df_comp['market_value']=df_comp.ftse"
   ]
  },
  {
   "cell_type": "code",
   "execution_count": 4,
   "id": "258dba8d-7005-4631-acfc-97b442f9a574",
   "metadata": {},
   "outputs": [],
   "source": [
    "size = int(len(df_comp)*0.8)\n",
    "df, df_test = df_comp.iloc[:size], df_comp.iloc[size:]"
   ]
  },
  {
   "cell_type": "markdown",
   "id": "ec4c6d59-a2f8-4c5e-88c9-a2d7f72b5386",
   "metadata": {},
   "source": [
    "## The LLR Test"
   ]
  },
  {
   "cell_type": "code",
   "execution_count": 5,
   "id": "cc7ba038-f85b-4861-b540-8e3c09171416",
   "metadata": {},
   "outputs": [],
   "source": [
    "def LLR_test(mod_1, mod_2, DF = 1):\n",
    "    L1 = mod_1.fit().llf\n",
    "    L2 = mod_2.fit().llf\n",
    "    LR = (2*(L2-L1))    \n",
    "    p = chi2.sf(LR, DF).round(3)\n",
    "    return p"
   ]
  },
  {
   "cell_type": "markdown",
   "id": "039fcfbc-c36a-4d14-a94d-8dae89182956",
   "metadata": {},
   "source": [
    "## Creating Returns"
   ]
  },
  {
   "cell_type": "code",
   "execution_count": 6,
   "id": "bf993770-1a77-4cd7-9f43-e32a6bea3f45",
   "metadata": {},
   "outputs": [],
   "source": [
    "df['returns'] = df.market_value.pct_change(1)*100"
   ]
  },
  {
   "cell_type": "markdown",
   "id": "76cb7049-30a3-4b99-b903-fc383634c605",
   "metadata": {},
   "source": [
    "## ARIMA(1,1,1)"
   ]
  },
  {
   "cell_type": "code",
   "execution_count": 7,
   "id": "33f7efce-bb27-4950-b9b1-79feeeb613ac",
   "metadata": {},
   "outputs": [
    {
     "data": {
      "text/html": [
       "<table class=\"simpletable\">\n",
       "<caption>SARIMAX Results</caption>\n",
       "<tr>\n",
       "  <th>Dep. Variable:</th>     <td>market_value</td>   <th>  No. Observations:  </th>    <td>5021</td>   \n",
       "</tr>\n",
       "<tr>\n",
       "  <th>Model:</th>            <td>ARIMA(1, 1, 1)</td>  <th>  Log Likelihood     </th> <td>-27603.662</td>\n",
       "</tr>\n",
       "<tr>\n",
       "  <th>Date:</th>            <td>Mon, 05 Aug 2024</td> <th>  AIC                </th>  <td>55215.323</td>\n",
       "</tr>\n",
       "<tr>\n",
       "  <th>Time:</th>                <td>00:34:53</td>     <th>  BIC                </th>  <td>55241.408</td>\n",
       "</tr>\n",
       "<tr>\n",
       "  <th>Sample:</th>             <td>01-07-1994</td>    <th>  HQIC               </th>  <td>55224.464</td>\n",
       "</tr>\n",
       "<tr>\n",
       "  <th></th>                   <td>- 04-05-2013</td>   <th>                     </th>      <td> </td>    \n",
       "</tr>\n",
       "<tr>\n",
       "  <th>Covariance Type:</th>        <td>opg</td>       <th>                     </th>      <td> </td>    \n",
       "</tr>\n",
       "</table>\n",
       "<table class=\"simpletable\">\n",
       "<tr>\n",
       "     <td></td>       <th>coef</th>     <th>std err</th>      <th>z</th>      <th>P>|z|</th>  <th>[0.025</th>    <th>0.975]</th>  \n",
       "</tr>\n",
       "<tr>\n",
       "  <th>x1</th>     <td>    0.5641</td> <td>    0.753</td> <td>    0.750</td> <td> 0.453</td> <td>   -0.911</td> <td>    2.039</td>\n",
       "</tr>\n",
       "<tr>\n",
       "  <th>ar.L1</th>  <td>    0.7475</td> <td>    0.059</td> <td>   12.676</td> <td> 0.000</td> <td>    0.632</td> <td>    0.863</td>\n",
       "</tr>\n",
       "<tr>\n",
       "  <th>ma.L1</th>  <td>   -0.7936</td> <td>    0.053</td> <td>  -14.876</td> <td> 0.000</td> <td>   -0.898</td> <td>   -0.689</td>\n",
       "</tr>\n",
       "<tr>\n",
       "  <th>sigma2</th> <td> 3496.7444</td> <td>   41.194</td> <td>   84.886</td> <td> 0.000</td> <td> 3416.007</td> <td> 3577.482</td>\n",
       "</tr>\n",
       "</table>\n",
       "<table class=\"simpletable\">\n",
       "<tr>\n",
       "  <th>Ljung-Box (L1) (Q):</th>     <td>2.65</td> <th>  Jarque-Bera (JB):  </th> <td>3327.45</td>\n",
       "</tr>\n",
       "<tr>\n",
       "  <th>Prob(Q):</th>                <td>0.10</td> <th>  Prob(JB):          </th>  <td>0.00</td>  \n",
       "</tr>\n",
       "<tr>\n",
       "  <th>Heteroskedasticity (H):</th> <td>1.90</td> <th>  Skew:              </th>  <td>-0.32</td> \n",
       "</tr>\n",
       "<tr>\n",
       "  <th>Prob(H) (two-sided):</th>    <td>0.00</td> <th>  Kurtosis:          </th>  <td>6.94</td>  \n",
       "</tr>\n",
       "</table><br/><br/>Warnings:<br/>[1] Covariance matrix calculated using the outer product of gradients (complex-step)."
      ],
      "text/latex": [
       "\\begin{center}\n",
       "\\begin{tabular}{lclc}\n",
       "\\toprule\n",
       "\\textbf{Dep. Variable:}          &  market\\_value   & \\textbf{  No. Observations:  } &    5021     \\\\\n",
       "\\textbf{Model:}                  &  ARIMA(1, 1, 1)  & \\textbf{  Log Likelihood     } & -27603.662  \\\\\n",
       "\\textbf{Date:}                   & Mon, 05 Aug 2024 & \\textbf{  AIC                } & 55215.323   \\\\\n",
       "\\textbf{Time:}                   &     00:34:53     & \\textbf{  BIC                } & 55241.408   \\\\\n",
       "\\textbf{Sample:}                 &    01-07-1994    & \\textbf{  HQIC               } & 55224.464   \\\\\n",
       "\\textbf{}                        &   - 04-05-2013   & \\textbf{                     } &             \\\\\n",
       "\\textbf{Covariance Type:}        &       opg        & \\textbf{                     } &             \\\\\n",
       "\\bottomrule\n",
       "\\end{tabular}\n",
       "\\begin{tabular}{lcccccc}\n",
       "                & \\textbf{coef} & \\textbf{std err} & \\textbf{z} & \\textbf{P$> |$z$|$} & \\textbf{[0.025} & \\textbf{0.975]}  \\\\\n",
       "\\midrule\n",
       "\\textbf{x1}     &       0.5641  &        0.753     &     0.750  &         0.453        &       -0.911    &        2.039     \\\\\n",
       "\\textbf{ar.L1}  &       0.7475  &        0.059     &    12.676  &         0.000        &        0.632    &        0.863     \\\\\n",
       "\\textbf{ma.L1}  &      -0.7936  &        0.053     &   -14.876  &         0.000        &       -0.898    &       -0.689     \\\\\n",
       "\\textbf{sigma2} &    3496.7444  &       41.194     &    84.886  &         0.000        &     3416.007    &     3577.482     \\\\\n",
       "\\bottomrule\n",
       "\\end{tabular}\n",
       "\\begin{tabular}{lclc}\n",
       "\\textbf{Ljung-Box (L1) (Q):}     & 2.65 & \\textbf{  Jarque-Bera (JB):  } & 3327.45  \\\\\n",
       "\\textbf{Prob(Q):}                & 0.10 & \\textbf{  Prob(JB):          } &   0.00   \\\\\n",
       "\\textbf{Heteroskedasticity (H):} & 1.90 & \\textbf{  Skew:              } &  -0.32   \\\\\n",
       "\\textbf{Prob(H) (two-sided):}    & 0.00 & \\textbf{  Kurtosis:          } &   6.94   \\\\\n",
       "\\bottomrule\n",
       "\\end{tabular}\n",
       "%\\caption{SARIMAX Results}\n",
       "\\end{center}\n",
       "\n",
       "Warnings: \\newline\n",
       " [1] Covariance matrix calculated using the outer product of gradients (complex-step)."
      ],
      "text/plain": [
       "<class 'statsmodels.iolib.summary.Summary'>\n",
       "\"\"\"\n",
       "                               SARIMAX Results                                \n",
       "==============================================================================\n",
       "Dep. Variable:           market_value   No. Observations:                 5021\n",
       "Model:                 ARIMA(1, 1, 1)   Log Likelihood              -27603.662\n",
       "Date:                Mon, 05 Aug 2024   AIC                          55215.323\n",
       "Time:                        00:34:53   BIC                          55241.408\n",
       "Sample:                    01-07-1994   HQIC                         55224.464\n",
       "                         - 04-05-2013                                         \n",
       "Covariance Type:                  opg                                         \n",
       "==============================================================================\n",
       "                 coef    std err          z      P>|z|      [0.025      0.975]\n",
       "------------------------------------------------------------------------------\n",
       "x1             0.5641      0.753      0.750      0.453      -0.911       2.039\n",
       "ar.L1          0.7475      0.059     12.676      0.000       0.632       0.863\n",
       "ma.L1         -0.7936      0.053    -14.876      0.000      -0.898      -0.689\n",
       "sigma2      3496.7444     41.194     84.886      0.000    3416.007    3577.482\n",
       "===================================================================================\n",
       "Ljung-Box (L1) (Q):                   2.65   Jarque-Bera (JB):              3327.45\n",
       "Prob(Q):                              0.10   Prob(JB):                         0.00\n",
       "Heteroskedasticity (H):               1.90   Skew:                            -0.32\n",
       "Prob(H) (two-sided):                  0.00   Kurtosis:                         6.94\n",
       "===================================================================================\n",
       "\n",
       "Warnings:\n",
       "[1] Covariance matrix calculated using the outer product of gradients (complex-step).\n",
       "\"\"\""
      ]
     },
     "execution_count": 7,
     "metadata": {},
     "output_type": "execute_result"
    }
   ],
   "source": [
    "model_ar_1_i_1_ma_1 = ARIMA(df.market_value, order=(1,1,1), trend='t')\n",
    "results_ar_1_i_1_ma_1 = model_ar_1_i_1_ma_1.fit()\n",
    "results_ar_1_i_1_ma_1.summary()"
   ]
  },
  {
   "cell_type": "markdown",
   "id": "1f7d2950-bbd2-4c74-8898-b5f61b3851fd",
   "metadata": {},
   "source": [
    "## Residuals of the ARIMA(1,1,1)"
   ]
  },
  {
   "cell_type": "code",
   "execution_count": 8,
   "id": "77b83035-142d-411f-aa58-22e6aefc7a35",
   "metadata": {},
   "outputs": [
    {
     "data": {
      "image/png": "[encoded data removed]",
      "text/plain": [
       "<Figure size 640x480 with 1 Axes>"
      ]
     },
     "metadata": {},
     "output_type": "display_data"
    }
   ],
   "source": [
    "df['res_ar_1_i_1_ma_1'] = results_ar_1_i_1_ma_1.resid.iloc[:]\n",
    "sgt.plot_acf(df.res_ar_1_i_1_ma_1[1:], zero = False, lags = 40,auto_ylims=True)\n",
    "plt.title(\"ACF Of Residuals for ARIMA(1,1,1)\",size=20)\n",
    "plt.show()"
   ]
  },
  {
   "cell_type": "markdown",
   "id": "98950fac-4c38-48e7-8101-74014f1f73f6",
   "metadata": {},
   "source": [
    "## Higher-Lag ARIMA Models"
   ]
  },
  {
   "cell_type": "code",
   "execution_count": 9,
   "id": "55e0d1ca-eb25-4bf8-b351-52a54bf7cda2",
   "metadata": {},
   "outputs": [],
   "source": [
    "model_ar_1_i_1_ma_2 = ARIMA(df.market_value, order=(1,1,2), trend='t')\n",
    "results_ar_1_i_1_ma_2 = model_ar_1_i_1_ma_2.fit()\n",
    "model_ar_1_i_1_ma_3 = ARIMA(df.market_value, order=(1,1,3), trend='t')\n",
    "results_ar_1_i_1_ma_3 = model_ar_1_i_1_ma_3.fit()\n",
    "model_ar_2_i_1_ma_1 = ARIMA(df.market_value, order=(2,1,1), trend='t')\n",
    "results_ar_2_i_1_ma_1 = model_ar_2_i_1_ma_1.fit()\n",
    "model_ar_3_i_1_ma_1 = ARIMA(df.market_value, order=(3,1,1), trend='t')\n",
    "results_ar_3_i_1_ma_1 = model_ar_3_i_1_ma_1.fit()\n",
    "model_ar_3_i_1_ma_2 = ARIMA(df.market_value, order=(3,1,2), trend='t')\n",
    "results_ar_3_i_1_ma_2 = model_ar_3_i_1_ma_2.fit()"
   ]
  },
  {
   "cell_type": "code",
   "execution_count": 10,
   "id": "83503ae7-dd94-44e4-b0ea-595cf4cd8ff9",
   "metadata": {},
   "outputs": [
    {
     "name": "stdout",
     "output_type": "stream",
     "text": [
      "ARIMA(1,1,1):  \t LL =  -27603.661702964546 \t AIC =  55215.32340592909\n",
      "ARIMA(1,1,2):  \t LL =  -27600.07322408194 \t AIC =  55210.14644816388\n",
      "ARIMA(1,1,3):  \t LL =  -27590.417706706277 \t AIC =  55192.835413412555\n",
      "ARIMA(2,1,1):  \t LL =  -27599.798222540354 \t AIC =  55209.59644508071\n",
      "ARIMA(3,1,1):  \t LL =  -27592.045891386093 \t AIC =  55196.091782772186\n",
      "ARIMA(3,1,2):  \t LL =  -27590.65028682675 \t AIC =  55195.3005736535\n"
     ]
    }
   ],
   "source": [
    "print(\"ARIMA(1,1,1):  \\t LL = \", results_ar_1_i_1_ma_1.llf, \"\\t AIC = \", results_ar_1_i_1_ma_1.aic)\n",
    "print(\"ARIMA(1,1,2):  \\t LL = \", results_ar_1_i_1_ma_2.llf, \"\\t AIC = \", results_ar_1_i_1_ma_2.aic)\n",
    "print(\"ARIMA(1,1,3):  \\t LL = \", results_ar_1_i_1_ma_3.llf, \"\\t AIC = \", results_ar_1_i_1_ma_3.aic)\n",
    "print(\"ARIMA(2,1,1):  \\t LL = \", results_ar_2_i_1_ma_1.llf, \"\\t AIC = \", results_ar_2_i_1_ma_1.aic)\n",
    "print(\"ARIMA(3,1,1):  \\t LL = \", results_ar_3_i_1_ma_1.llf, \"\\t AIC = \", results_ar_3_i_1_ma_1.aic)\n",
    "print(\"ARIMA(3,1,2):  \\t LL = \", results_ar_3_i_1_ma_2.llf, \"\\t AIC = \", results_ar_3_i_1_ma_2.aic)"
   ]
  },
  {
   "cell_type": "code",
   "execution_count": 11,
   "id": "008ed5d3-5d97-4961-a5f2-7eb5b027f25e",
   "metadata": {},
   "outputs": [
    {
     "name": "stdout",
     "output_type": "stream",
     "text": [
      "\n",
      "LLR test p-value = 0.0\n"
     ]
    }
   ],
   "source": [
    "print(\"\\nLLR test p-value = \" + str(LLR_test(model_ar_1_i_1_ma_2, model_ar_1_i_1_ma_3)))"
   ]
  },
  {
   "cell_type": "code",
   "execution_count": 12,
   "id": "62b1fb78-6a83-4dd1-afb6-b67fbf1138ed",
   "metadata": {},
   "outputs": [
    {
     "name": "stdout",
     "output_type": "stream",
     "text": [
      "\n",
      "LLR test p-value = 0.0\n"
     ]
    }
   ],
   "source": [
    "print(\"\\nLLR test p-value = \" + str(LLR_test(model_ar_1_i_1_ma_1, model_ar_1_i_1_ma_3, DF = 2)))"
   ]
  },
  {
   "cell_type": "code",
   "execution_count": 13,
   "id": "8600a55a-7b75-4b0c-a6aa-1ac56ed1b20f",
   "metadata": {},
   "outputs": [
    {
     "data": {
      "image/png": "[encoded data removed]",
      "text/plain": [
       "<Figure size 640x480 with 1 Axes>"
      ]
     },
     "metadata": {},
     "output_type": "display_data"
    }
   ],
   "source": [
    "df['res_ar_1_i_1_ma_3'] = results_ar_1_i_1_ma_3.resid\n",
    "sgt.plot_acf(df.res_ar_1_i_1_ma_3[1:], zero = False, lags = 40,auto_ylims=True)\n",
    "plt.title(\"ACF Of Residuals for ARIMA(1,1,3)\", size=20)\n",
    "plt.show()"
   ]
  },
  {
   "cell_type": "code",
   "execution_count": 14,
   "id": "4eda1ae5-9434-4928-95eb-4a981cbc1af1",
   "metadata": {},
   "outputs": [],
   "source": [
    "model_ar_5_i_1_ma_1 = ARIMA(df.market_value, order=(5,1,1), trend='t')\n",
    "results_ar_5_i_1_ma_1 = model_ar_5_i_1_ma_1.fit()\n",
    "model_ar_6_i_1_ma_3 = ARIMA(df.market_value, order=(6,1,3), trend='t')\n",
    "results_ar_6_i_1_ma_3 = model_ar_6_i_1_ma_3.fit()"
   ]
  },
  {
   "cell_type": "code",
   "execution_count": 15,
   "id": "85f0a529-7a47-4b5b-92b7-95a45391c26a",
   "metadata": {},
   "outputs": [
    {
     "data": {
      "text/html": [
       "<table class=\"simpletable\">\n",
       "<caption>SARIMAX Results</caption>\n",
       "<tr>\n",
       "  <th>Dep. Variable:</th>     <td>market_value</td>   <th>  No. Observations:  </th>    <td>5021</td>   \n",
       "</tr>\n",
       "<tr>\n",
       "  <th>Model:</th>            <td>ARIMA(5, 1, 1)</td>  <th>  Log Likelihood     </th> <td>-27586.508</td>\n",
       "</tr>\n",
       "<tr>\n",
       "  <th>Date:</th>            <td>Mon, 05 Aug 2024</td> <th>  AIC                </th>  <td>55189.017</td>\n",
       "</tr>\n",
       "<tr>\n",
       "  <th>Time:</th>                <td>00:35:20</td>     <th>  BIC                </th>  <td>55241.186</td>\n",
       "</tr>\n",
       "<tr>\n",
       "  <th>Sample:</th>             <td>01-07-1994</td>    <th>  HQIC               </th>  <td>55207.297</td>\n",
       "</tr>\n",
       "<tr>\n",
       "  <th></th>                   <td>- 04-05-2013</td>   <th>                     </th>      <td> </td>    \n",
       "</tr>\n",
       "<tr>\n",
       "  <th>Covariance Type:</th>        <td>opg</td>       <th>                     </th>      <td> </td>    \n",
       "</tr>\n",
       "</table>\n",
       "<table class=\"simpletable\">\n",
       "<tr>\n",
       "     <td></td>       <th>coef</th>     <th>std err</th>      <th>z</th>      <th>P>|z|</th>  <th>[0.025</th>    <th>0.975]</th>  \n",
       "</tr>\n",
       "<tr>\n",
       "  <th>x1</th>     <td>    0.5599</td> <td>    0.745</td> <td>    0.752</td> <td> 0.452</td> <td>   -0.900</td> <td>    2.020</td>\n",
       "</tr>\n",
       "<tr>\n",
       "  <th>ar.L1</th>  <td>    0.4022</td> <td>    0.153</td> <td>    2.623</td> <td> 0.009</td> <td>    0.102</td> <td>    0.703</td>\n",
       "</tr>\n",
       "<tr>\n",
       "  <th>ar.L2</th>  <td>   -0.0444</td> <td>    0.011</td> <td>   -4.075</td> <td> 0.000</td> <td>   -0.066</td> <td>   -0.023</td>\n",
       "</tr>\n",
       "<tr>\n",
       "  <th>ar.L3</th>  <td>   -0.0542</td> <td>    0.013</td> <td>   -4.228</td> <td> 0.000</td> <td>   -0.079</td> <td>   -0.029</td>\n",
       "</tr>\n",
       "<tr>\n",
       "  <th>ar.L4</th>  <td>    0.0587</td> <td>    0.015</td> <td>    3.916</td> <td> 0.000</td> <td>    0.029</td> <td>    0.088</td>\n",
       "</tr>\n",
       "<tr>\n",
       "  <th>ar.L5</th>  <td>   -0.0582</td> <td>    0.009</td> <td>   -6.318</td> <td> 0.000</td> <td>   -0.076</td> <td>   -0.040</td>\n",
       "</tr>\n",
       "<tr>\n",
       "  <th>ma.L1</th>  <td>   -0.4225</td> <td>    0.154</td> <td>   -2.746</td> <td> 0.006</td> <td>   -0.724</td> <td>   -0.121</td>\n",
       "</tr>\n",
       "<tr>\n",
       "  <th>sigma2</th> <td> 3478.5659</td> <td>   42.288</td> <td>   82.259</td> <td> 0.000</td> <td> 3395.683</td> <td> 3561.448</td>\n",
       "</tr>\n",
       "</table>\n",
       "<table class=\"simpletable\">\n",
       "<tr>\n",
       "  <th>Ljung-Box (L1) (Q):</th>     <td>0.00</td> <th>  Jarque-Bera (JB):  </th> <td>3060.82</td>\n",
       "</tr>\n",
       "<tr>\n",
       "  <th>Prob(Q):</th>                <td>0.96</td> <th>  Prob(JB):          </th>  <td>0.00</td>  \n",
       "</tr>\n",
       "<tr>\n",
       "  <th>Heteroskedasticity (H):</th> <td>1.90</td> <th>  Skew:              </th>  <td>-0.32</td> \n",
       "</tr>\n",
       "<tr>\n",
       "  <th>Prob(H) (two-sided):</th>    <td>0.00</td> <th>  Kurtosis:          </th>  <td>6.77</td>  \n",
       "</tr>\n",
       "</table><br/><br/>Warnings:<br/>[1] Covariance matrix calculated using the outer product of gradients (complex-step)."
      ],
      "text/latex": [
       "\\begin{center}\n",
       "\\begin{tabular}{lclc}\n",
       "\\toprule\n",
       "\\textbf{Dep. Variable:}          &  market\\_value   & \\textbf{  No. Observations:  } &    5021     \\\\\n",
       "\\textbf{Model:}                  &  ARIMA(5, 1, 1)  & \\textbf{  Log Likelihood     } & -27586.508  \\\\\n",
       "\\textbf{Date:}                   & Mon, 05 Aug 2024 & \\textbf{  AIC                } & 55189.017   \\\\\n",
       "\\textbf{Time:}                   &     00:35:20     & \\textbf{  BIC                } & 55241.186   \\\\\n",
       "\\textbf{Sample:}                 &    01-07-1994    & \\textbf{  HQIC               } & 55207.297   \\\\\n",
       "\\textbf{}                        &   - 04-05-2013   & \\textbf{                     } &             \\\\\n",
       "\\textbf{Covariance Type:}        &       opg        & \\textbf{                     } &             \\\\\n",
       "\\bottomrule\n",
       "\\end{tabular}\n",
       "\\begin{tabular}{lcccccc}\n",
       "                & \\textbf{coef} & \\textbf{std err} & \\textbf{z} & \\textbf{P$> |$z$|$} & \\textbf{[0.025} & \\textbf{0.975]}  \\\\\n",
       "\\midrule\n",
       "\\textbf{x1}     &       0.5599  &        0.745     &     0.752  &         0.452        &       -0.900    &        2.020     \\\\\n",
       "\\textbf{ar.L1}  &       0.4022  &        0.153     &     2.623  &         0.009        &        0.102    &        0.703     \\\\\n",
       "\\textbf{ar.L2}  &      -0.0444  &        0.011     &    -4.075  &         0.000        &       -0.066    &       -0.023     \\\\\n",
       "\\textbf{ar.L3}  &      -0.0542  &        0.013     &    -4.228  &         0.000        &       -0.079    &       -0.029     \\\\\n",
       "\\textbf{ar.L4}  &       0.0587  &        0.015     &     3.916  &         0.000        &        0.029    &        0.088     \\\\\n",
       "\\textbf{ar.L5}  &      -0.0582  &        0.009     &    -6.318  &         0.000        &       -0.076    &       -0.040     \\\\\n",
       "\\textbf{ma.L1}  &      -0.4225  &        0.154     &    -2.746  &         0.006        &       -0.724    &       -0.121     \\\\\n",
       "\\textbf{sigma2} &    3478.5659  &       42.288     &    82.259  &         0.000        &     3395.683    &     3561.448     \\\\\n",
       "\\bottomrule\n",
       "\\end{tabular}\n",
       "\\begin{tabular}{lclc}\n",
       "\\textbf{Ljung-Box (L1) (Q):}     & 0.00 & \\textbf{  Jarque-Bera (JB):  } & 3060.82  \\\\\n",
       "\\textbf{Prob(Q):}                & 0.96 & \\textbf{  Prob(JB):          } &   0.00   \\\\\n",
       "\\textbf{Heteroskedasticity (H):} & 1.90 & \\textbf{  Skew:              } &  -0.32   \\\\\n",
       "\\textbf{Prob(H) (two-sided):}    & 0.00 & \\textbf{  Kurtosis:          } &   6.77   \\\\\n",
       "\\bottomrule\n",
       "\\end{tabular}\n",
       "%\\caption{SARIMAX Results}\n",
       "\\end{center}\n",
       "\n",
       "Warnings: \\newline\n",
       " [1] Covariance matrix calculated using the outer product of gradients (complex-step)."
      ],
      "text/plain": [
       "<class 'statsmodels.iolib.summary.Summary'>\n",
       "\"\"\"\n",
       "                               SARIMAX Results                                \n",
       "==============================================================================\n",
       "Dep. Variable:           market_value   No. Observations:                 5021\n",
       "Model:                 ARIMA(5, 1, 1)   Log Likelihood              -27586.508\n",
       "Date:                Mon, 05 Aug 2024   AIC                          55189.017\n",
       "Time:                        00:35:20   BIC                          55241.186\n",
       "Sample:                    01-07-1994   HQIC                         55207.297\n",
       "                         - 04-05-2013                                         \n",
       "Covariance Type:                  opg                                         \n",
       "==============================================================================\n",
       "                 coef    std err          z      P>|z|      [0.025      0.975]\n",
       "------------------------------------------------------------------------------\n",
       "x1             0.5599      0.745      0.752      0.452      -0.900       2.020\n",
       "ar.L1          0.4022      0.153      2.623      0.009       0.102       0.703\n",
       "ar.L2         -0.0444      0.011     -4.075      0.000      -0.066      -0.023\n",
       "ar.L3         -0.0542      0.013     -4.228      0.000      -0.079      -0.029\n",
       "ar.L4          0.0587      0.015      3.916      0.000       0.029       0.088\n",
       "ar.L5         -0.0582      0.009     -6.318      0.000      -0.076      -0.040\n",
       "ma.L1         -0.4225      0.154     -2.746      0.006      -0.724      -0.121\n",
       "sigma2      3478.5659     42.288     82.259      0.000    3395.683    3561.448\n",
       "===================================================================================\n",
       "Ljung-Box (L1) (Q):                   0.00   Jarque-Bera (JB):              3060.82\n",
       "Prob(Q):                              0.96   Prob(JB):                         0.00\n",
       "Heteroskedasticity (H):               1.90   Skew:                            -0.32\n",
       "Prob(H) (two-sided):                  0.00   Kurtosis:                         6.77\n",
       "===================================================================================\n",
       "\n",
       "Warnings:\n",
       "[1] Covariance matrix calculated using the outer product of gradients (complex-step).\n",
       "\"\"\""
      ]
     },
     "execution_count": 15,
     "metadata": {},
     "output_type": "execute_result"
    }
   ],
   "source": [
    "results_ar_5_i_1_ma_1.summary()"
   ]
  },
  {
   "cell_type": "code",
   "execution_count": 16,
   "id": "8cf83387-c15f-4400-a4db-ef59d411ce05",
   "metadata": {},
   "outputs": [
    {
     "name": "stdout",
     "output_type": "stream",
     "text": [
      "ARIMA(1,1,3):  \t LL =  -27590.417706706277 \t AIC =  55192.835413412555\n",
      "ARIMA(5,1,1):  \t LL =  -27586.50829956659 \t AIC =  55189.01659913318\n",
      "ARIMA(6,1,3):  \t LL =  -27583.531401992797 \t AIC =  55189.062803985595\n"
     ]
    }
   ],
   "source": [
    "print(\"ARIMA(1,1,3):  \\t LL = \", results_ar_1_i_1_ma_3.llf, \"\\t AIC = \", results_ar_1_i_1_ma_3.aic)\n",
    "print(\"ARIMA(5,1,1):  \\t LL = \", results_ar_5_i_1_ma_1.llf, \"\\t AIC = \", results_ar_5_i_1_ma_1.aic)\n",
    "print(\"ARIMA(6,1,3):  \\t LL = \", results_ar_6_i_1_ma_3.llf, \"\\t AIC = \", results_ar_6_i_1_ma_3.aic)"
   ]
  },
  {
   "cell_type": "code",
   "execution_count": 17,
   "id": "fc28a2a9-39f8-4b72-a82b-1ce7a3dfadae",
   "metadata": {},
   "outputs": [
    {
     "name": "stdout",
     "output_type": "stream",
     "text": [
      "\n",
      "LLR test p-value = 0.017\n"
     ]
    }
   ],
   "source": [
    "print(\"\\nLLR test p-value = \" + str(LLR_test(model_ar_1_i_1_ma_3, model_ar_6_i_1_ma_3, DF = 5)))"
   ]
  },
  {
   "cell_type": "code",
   "execution_count": 18,
   "id": "bab988a4-0c00-4878-9c77-538c449711b9",
   "metadata": {},
   "outputs": [
    {
     "name": "stdout",
     "output_type": "stream",
     "text": [
      "\n",
      "LLR test p-value = 0.114\n"
     ]
    }
   ],
   "source": [
    "print(\"\\nLLR test p-value = \" + str(LLR_test(model_ar_5_i_1_ma_1, model_ar_6_i_1_ma_3, DF = 3)))"
   ]
  },
  {
   "cell_type": "code",
   "execution_count": 19,
   "id": "b51482dd-9b73-4f1f-8eb9-e997ae1f025d",
   "metadata": {},
   "outputs": [
    {
     "data": {
      "image/png": "[encoded data removed]",
      "text/plain": [
       "<Figure size 640x480 with 1 Axes>"
      ]
     },
     "metadata": {},
     "output_type": "display_data"
    }
   ],
   "source": [
    "df['res_ar_5_i_1_ma_1'] = results_ar_5_i_1_ma_1.resid\n",
    "sgt.plot_acf(df.res_ar_5_i_1_ma_1[1:], zero = False, lags = 40,auto_ylims=True)\n",
    "plt.title(\"ACF Of Residuals for ARIMA(5,1,1)\", size=20)\n",
    "plt.show()"
   ]
  },
  {
   "cell_type": "markdown",
   "id": "934c673d-18ad-4748-b03c-9943e835f1b9",
   "metadata": {},
   "source": [
    "## Models with Higher Levels of Integration"
   ]
  },
  {
   "cell_type": "code",
   "execution_count": 20,
   "id": "5c08c441-25b2-4c16-9846-ac4a3155987c",
   "metadata": {},
   "outputs": [],
   "source": [
    "df['delta_prices']=df.market_value.diff(1)"
   ]
  },
  {
   "cell_type": "code",
   "execution_count": 21,
   "id": "01c9e43c-b994-4823-b606-e303b449c249",
   "metadata": {},
   "outputs": [
    {
     "data": {
      "text/html": [
       "<table class=\"simpletable\">\n",
       "<caption>SARIMAX Results</caption>\n",
       "<tr>\n",
       "  <th>Dep. Variable:</th>     <td>delta_prices</td>   <th>  No. Observations:  </th>    <td>5020</td>   \n",
       "</tr>\n",
       "<tr>\n",
       "  <th>Model:</th>            <td>ARIMA(1, 0, 1)</td>  <th>  Log Likelihood     </th> <td>-27603.666</td>\n",
       "</tr>\n",
       "<tr>\n",
       "  <th>Date:</th>            <td>Mon, 05 Aug 2024</td> <th>  AIC                </th>  <td>55215.333</td>\n",
       "</tr>\n",
       "<tr>\n",
       "  <th>Time:</th>                <td>00:35:34</td>     <th>  BIC                </th>  <td>55241.418</td>\n",
       "</tr>\n",
       "<tr>\n",
       "  <th>Sample:</th>             <td>01-10-1994</td>    <th>  HQIC               </th>  <td>55224.473</td>\n",
       "</tr>\n",
       "<tr>\n",
       "  <th></th>                   <td>- 04-05-2013</td>   <th>                     </th>      <td> </td>    \n",
       "</tr>\n",
       "<tr>\n",
       "  <th>Covariance Type:</th>        <td>opg</td>       <th>                     </th>      <td> </td>    \n",
       "</tr>\n",
       "</table>\n",
       "<table class=\"simpletable\">\n",
       "<tr>\n",
       "     <td></td>       <th>coef</th>     <th>std err</th>      <th>z</th>      <th>P>|z|</th>  <th>[0.025</th>    <th>0.975]</th>  \n",
       "</tr>\n",
       "<tr>\n",
       "  <th>const</th>  <td>    0.5639</td> <td>    0.753</td> <td>    0.749</td> <td> 0.454</td> <td>   -0.911</td> <td>    2.039</td>\n",
       "</tr>\n",
       "<tr>\n",
       "  <th>ar.L1</th>  <td>    0.7476</td> <td>    0.059</td> <td>   12.673</td> <td> 0.000</td> <td>    0.632</td> <td>    0.863</td>\n",
       "</tr>\n",
       "<tr>\n",
       "  <th>ma.L1</th>  <td>   -0.7937</td> <td>    0.053</td> <td>  -14.871</td> <td> 0.000</td> <td>   -0.898</td> <td>   -0.689</td>\n",
       "</tr>\n",
       "<tr>\n",
       "  <th>sigma2</th> <td> 3496.6352</td> <td>   41.191</td> <td>   84.888</td> <td> 0.000</td> <td> 3415.902</td> <td> 3577.368</td>\n",
       "</tr>\n",
       "</table>\n",
       "<table class=\"simpletable\">\n",
       "<tr>\n",
       "  <th>Ljung-Box (L1) (Q):</th>     <td>2.64</td> <th>  Jarque-Bera (JB):  </th> <td>3327.38</td>\n",
       "</tr>\n",
       "<tr>\n",
       "  <th>Prob(Q):</th>                <td>0.10</td> <th>  Prob(JB):          </th>  <td>0.00</td>  \n",
       "</tr>\n",
       "<tr>\n",
       "  <th>Heteroskedasticity (H):</th> <td>1.90</td> <th>  Skew:              </th>  <td>-0.32</td> \n",
       "</tr>\n",
       "<tr>\n",
       "  <th>Prob(H) (two-sided):</th>    <td>0.00</td> <th>  Kurtosis:          </th>  <td>6.94</td>  \n",
       "</tr>\n",
       "</table><br/><br/>Warnings:<br/>[1] Covariance matrix calculated using the outer product of gradients (complex-step)."
      ],
      "text/latex": [
       "\\begin{center}\n",
       "\\begin{tabular}{lclc}\n",
       "\\toprule\n",
       "\\textbf{Dep. Variable:}          &  delta\\_prices   & \\textbf{  No. Observations:  } &    5020     \\\\\n",
       "\\textbf{Model:}                  &  ARIMA(1, 0, 1)  & \\textbf{  Log Likelihood     } & -27603.666  \\\\\n",
       "\\textbf{Date:}                   & Mon, 05 Aug 2024 & \\textbf{  AIC                } & 55215.333   \\\\\n",
       "\\textbf{Time:}                   &     00:35:34     & \\textbf{  BIC                } & 55241.418   \\\\\n",
       "\\textbf{Sample:}                 &    01-10-1994    & \\textbf{  HQIC               } & 55224.473   \\\\\n",
       "\\textbf{}                        &   - 04-05-2013   & \\textbf{                     } &             \\\\\n",
       "\\textbf{Covariance Type:}        &       opg        & \\textbf{                     } &             \\\\\n",
       "\\bottomrule\n",
       "\\end{tabular}\n",
       "\\begin{tabular}{lcccccc}\n",
       "                & \\textbf{coef} & \\textbf{std err} & \\textbf{z} & \\textbf{P$> |$z$|$} & \\textbf{[0.025} & \\textbf{0.975]}  \\\\\n",
       "\\midrule\n",
       "\\textbf{const}  &       0.5639  &        0.753     &     0.749  &         0.454        &       -0.911    &        2.039     \\\\\n",
       "\\textbf{ar.L1}  &       0.7476  &        0.059     &    12.673  &         0.000        &        0.632    &        0.863     \\\\\n",
       "\\textbf{ma.L1}  &      -0.7937  &        0.053     &   -14.871  &         0.000        &       -0.898    &       -0.689     \\\\\n",
       "\\textbf{sigma2} &    3496.6352  &       41.191     &    84.888  &         0.000        &     3415.902    &     3577.368     \\\\\n",
       "\\bottomrule\n",
       "\\end{tabular}\n",
       "\\begin{tabular}{lclc}\n",
       "\\textbf{Ljung-Box (L1) (Q):}     & 2.64 & \\textbf{  Jarque-Bera (JB):  } & 3327.38  \\\\\n",
       "\\textbf{Prob(Q):}                & 0.10 & \\textbf{  Prob(JB):          } &   0.00   \\\\\n",
       "\\textbf{Heteroskedasticity (H):} & 1.90 & \\textbf{  Skew:              } &  -0.32   \\\\\n",
       "\\textbf{Prob(H) (two-sided):}    & 0.00 & \\textbf{  Kurtosis:          } &   6.94   \\\\\n",
       "\\bottomrule\n",
       "\\end{tabular}\n",
       "%\\caption{SARIMAX Results}\n",
       "\\end{center}\n",
       "\n",
       "Warnings: \\newline\n",
       " [1] Covariance matrix calculated using the outer product of gradients (complex-step)."
      ],
      "text/plain": [
       "<class 'statsmodels.iolib.summary.Summary'>\n",
       "\"\"\"\n",
       "                               SARIMAX Results                                \n",
       "==============================================================================\n",
       "Dep. Variable:           delta_prices   No. Observations:                 5020\n",
       "Model:                 ARIMA(1, 0, 1)   Log Likelihood              -27603.666\n",
       "Date:                Mon, 05 Aug 2024   AIC                          55215.333\n",
       "Time:                        00:35:34   BIC                          55241.418\n",
       "Sample:                    01-10-1994   HQIC                         55224.473\n",
       "                         - 04-05-2013                                         \n",
       "Covariance Type:                  opg                                         \n",
       "==============================================================================\n",
       "                 coef    std err          z      P>|z|      [0.025      0.975]\n",
       "------------------------------------------------------------------------------\n",
       "const          0.5639      0.753      0.749      0.454      -0.911       2.039\n",
       "ar.L1          0.7476      0.059     12.673      0.000       0.632       0.863\n",
       "ma.L1         -0.7937      0.053    -14.871      0.000      -0.898      -0.689\n",
       "sigma2      3496.6352     41.191     84.888      0.000    3415.902    3577.368\n",
       "===================================================================================\n",
       "Ljung-Box (L1) (Q):                   2.64   Jarque-Bera (JB):              3327.38\n",
       "Prob(Q):                              0.10   Prob(JB):                         0.00\n",
       "Heteroskedasticity (H):               1.90   Skew:                            -0.32\n",
       "Prob(H) (two-sided):                  0.00   Kurtosis:                         6.94\n",
       "===================================================================================\n",
       "\n",
       "Warnings:\n",
       "[1] Covariance matrix calculated using the outer product of gradients (complex-step).\n",
       "\"\"\""
      ]
     },
     "execution_count": 21,
     "metadata": {},
     "output_type": "execute_result"
    }
   ],
   "source": [
    "model_delta_ar_1_i_1_ma_1 = ARIMA(df.delta_prices[1:], order=(1,0,1))\n",
    "results_delta_ar_1_i_1_ma_1 = model_delta_ar_1_i_1_ma_1.fit()\n",
    "results_delta_ar_1_i_1_ma_1.summary()"
   ]
  },
  {
   "cell_type": "code",
   "execution_count": 22,
   "id": "cd2cdfa2-6b41-4da1-901c-e87cf1dfab47",
   "metadata": {},
   "outputs": [
    {
     "data": {
      "text/plain": [
       "(-32.24409349570748,\n",
       " 0.0,\n",
       " 5,\n",
       " 5014,\n",
       " {'1%': -3.4316548765428174,\n",
       "  '5%': -2.8621166146845334,\n",
       "  '10%': -2.5670769326348926},\n",
       " 54845.96104221891)"
      ]
     },
     "execution_count": 22,
     "metadata": {},
     "output_type": "execute_result"
    }
   ],
   "source": [
    "sts.adfuller(df.delta_prices[1:])"
   ]
  },
  {
   "cell_type": "code",
   "execution_count": 23,
   "id": "a83f1fc4-b99c-4a32-8b3b-69fa8243d8a8",
   "metadata": {},
   "outputs": [
    {
     "data": {
      "text/html": [
       "<table class=\"simpletable\">\n",
       "<caption>SARIMAX Results</caption>\n",
       "<tr>\n",
       "  <th>Dep. Variable:</th>     <td>market_value</td>   <th>  No. Observations:  </th>    <td>5021</td>   \n",
       "</tr>\n",
       "<tr>\n",
       "  <th>Model:</th>            <td>ARIMA(1, 2, 1)</td>  <th>  Log Likelihood     </th> <td>-27614.176</td>\n",
       "</tr>\n",
       "<tr>\n",
       "  <th>Date:</th>            <td>Mon, 05 Aug 2024</td> <th>  AIC                </th>  <td>55234.352</td>\n",
       "</tr>\n",
       "<tr>\n",
       "  <th>Time:</th>                <td>00:35:36</td>     <th>  BIC                </th>  <td>55253.915</td>\n",
       "</tr>\n",
       "<tr>\n",
       "  <th>Sample:</th>             <td>01-07-1994</td>    <th>  HQIC               </th>  <td>55241.207</td>\n",
       "</tr>\n",
       "<tr>\n",
       "  <th></th>                   <td>- 04-05-2013</td>   <th>                     </th>      <td> </td>    \n",
       "</tr>\n",
       "<tr>\n",
       "  <th>Covariance Type:</th>        <td>opg</td>       <th>                     </th>      <td> </td>    \n",
       "</tr>\n",
       "</table>\n",
       "<table class=\"simpletable\">\n",
       "<tr>\n",
       "     <td></td>       <th>coef</th>     <th>std err</th>      <th>z</th>      <th>P>|z|</th>  <th>[0.025</th>    <th>0.975]</th>  \n",
       "</tr>\n",
       "<tr>\n",
       "  <th>ar.L1</th>  <td>   -0.0178</td> <td>    0.010</td> <td>   -1.807</td> <td> 0.071</td> <td>   -0.037</td> <td>    0.002</td>\n",
       "</tr>\n",
       "<tr>\n",
       "  <th>ma.L1</th>  <td>   -1.0000</td> <td>    0.021</td> <td>  -47.356</td> <td> 0.000</td> <td>   -1.041</td> <td>   -0.959</td>\n",
       "</tr>\n",
       "<tr>\n",
       "  <th>sigma2</th> <td> 3513.2017</td> <td>   82.609</td> <td>   42.528</td> <td> 0.000</td> <td> 3351.291</td> <td> 3675.113</td>\n",
       "</tr>\n",
       "</table>\n",
       "<table class=\"simpletable\">\n",
       "<tr>\n",
       "  <th>Ljung-Box (L1) (Q):</th>     <td>0.01</td> <th>  Jarque-Bera (JB):  </th> <td>3335.05</td>\n",
       "</tr>\n",
       "<tr>\n",
       "  <th>Prob(Q):</th>                <td>0.94</td> <th>  Prob(JB):          </th>  <td>0.00</td>  \n",
       "</tr>\n",
       "<tr>\n",
       "  <th>Heteroskedasticity (H):</th> <td>1.90</td> <th>  Skew:              </th>  <td>-0.22</td> \n",
       "</tr>\n",
       "<tr>\n",
       "  <th>Prob(H) (two-sided):</th>    <td>0.00</td> <th>  Kurtosis:          </th>  <td>6.97</td>  \n",
       "</tr>\n",
       "</table><br/><br/>Warnings:<br/>[1] Covariance matrix calculated using the outer product of gradients (complex-step)."
      ],
      "text/latex": [
       "\\begin{center}\n",
       "\\begin{tabular}{lclc}\n",
       "\\toprule\n",
       "\\textbf{Dep. Variable:}          &  market\\_value   & \\textbf{  No. Observations:  } &    5021     \\\\\n",
       "\\textbf{Model:}                  &  ARIMA(1, 2, 1)  & \\textbf{  Log Likelihood     } & -27614.176  \\\\\n",
       "\\textbf{Date:}                   & Mon, 05 Aug 2024 & \\textbf{  AIC                } & 55234.352   \\\\\n",
       "\\textbf{Time:}                   &     00:35:36     & \\textbf{  BIC                } & 55253.915   \\\\\n",
       "\\textbf{Sample:}                 &    01-07-1994    & \\textbf{  HQIC               } & 55241.207   \\\\\n",
       "\\textbf{}                        &   - 04-05-2013   & \\textbf{                     } &             \\\\\n",
       "\\textbf{Covariance Type:}        &       opg        & \\textbf{                     } &             \\\\\n",
       "\\bottomrule\n",
       "\\end{tabular}\n",
       "\\begin{tabular}{lcccccc}\n",
       "                & \\textbf{coef} & \\textbf{std err} & \\textbf{z} & \\textbf{P$> |$z$|$} & \\textbf{[0.025} & \\textbf{0.975]}  \\\\\n",
       "\\midrule\n",
       "\\textbf{ar.L1}  &      -0.0178  &        0.010     &    -1.807  &         0.071        &       -0.037    &        0.002     \\\\\n",
       "\\textbf{ma.L1}  &      -1.0000  &        0.021     &   -47.356  &         0.000        &       -1.041    &       -0.959     \\\\\n",
       "\\textbf{sigma2} &    3513.2017  &       82.609     &    42.528  &         0.000        &     3351.291    &     3675.113     \\\\\n",
       "\\bottomrule\n",
       "\\end{tabular}\n",
       "\\begin{tabular}{lclc}\n",
       "\\textbf{Ljung-Box (L1) (Q):}     & 0.01 & \\textbf{  Jarque-Bera (JB):  } & 3335.05  \\\\\n",
       "\\textbf{Prob(Q):}                & 0.94 & \\textbf{  Prob(JB):          } &   0.00   \\\\\n",
       "\\textbf{Heteroskedasticity (H):} & 1.90 & \\textbf{  Skew:              } &  -0.22   \\\\\n",
       "\\textbf{Prob(H) (two-sided):}    & 0.00 & \\textbf{  Kurtosis:          } &   6.97   \\\\\n",
       "\\bottomrule\n",
       "\\end{tabular}\n",
       "%\\caption{SARIMAX Results}\n",
       "\\end{center}\n",
       "\n",
       "Warnings: \\newline\n",
       " [1] Covariance matrix calculated using the outer product of gradients (complex-step)."
      ],
      "text/plain": [
       "<class 'statsmodels.iolib.summary.Summary'>\n",
       "\"\"\"\n",
       "                               SARIMAX Results                                \n",
       "==============================================================================\n",
       "Dep. Variable:           market_value   No. Observations:                 5021\n",
       "Model:                 ARIMA(1, 2, 1)   Log Likelihood              -27614.176\n",
       "Date:                Mon, 05 Aug 2024   AIC                          55234.352\n",
       "Time:                        00:35:36   BIC                          55253.915\n",
       "Sample:                    01-07-1994   HQIC                         55241.207\n",
       "                         - 04-05-2013                                         \n",
       "Covariance Type:                  opg                                         \n",
       "==============================================================================\n",
       "                 coef    std err          z      P>|z|      [0.025      0.975]\n",
       "------------------------------------------------------------------------------\n",
       "ar.L1         -0.0178      0.010     -1.807      0.071      -0.037       0.002\n",
       "ma.L1         -1.0000      0.021    -47.356      0.000      -1.041      -0.959\n",
       "sigma2      3513.2017     82.609     42.528      0.000    3351.291    3675.113\n",
       "===================================================================================\n",
       "Ljung-Box (L1) (Q):                   0.01   Jarque-Bera (JB):              3335.05\n",
       "Prob(Q):                              0.94   Prob(JB):                         0.00\n",
       "Heteroskedasticity (H):               1.90   Skew:                            -0.22\n",
       "Prob(H) (two-sided):                  0.00   Kurtosis:                         6.97\n",
       "===================================================================================\n",
       "\n",
       "Warnings:\n",
       "[1] Covariance matrix calculated using the outer product of gradients (complex-step).\n",
       "\"\"\""
      ]
     },
     "execution_count": 23,
     "metadata": {},
     "output_type": "execute_result"
    }
   ],
   "source": [
    "model_ar_1_i_2_ma_1 = ARIMA(df.market_value, order=(1,2,1))\n",
    "results_ar_1_i_2_ma_1 = model_ar_1_i_2_ma_1.fit()\n",
    "results_ar_1_i_2_ma_1.summary()"
   ]
  },
  {
   "cell_type": "code",
   "execution_count": 24,
   "id": "6a67b322-761c-4010-bfc6-b4969d545e61",
   "metadata": {},
   "outputs": [
    {
     "data": {
      "image/png": "[encoded data removed]",
      "text/plain": [
       "<Figure size 640x480 with 1 Axes>"
      ]
     },
     "metadata": {},
     "output_type": "display_data"
    }
   ],
   "source": [
    "df['res_ar_1_i_2_ma_1'] = results_ar_1_i_2_ma_1.resid.iloc[:]\n",
    "sgt.plot_acf(df.res_ar_1_i_2_ma_1[2:], zero = False, lags = 40,auto_ylims=True)\n",
    "plt.title(\"ACF Of Residuals for ARIMA(1,2,1)\",size=20)\n",
    "plt.show()"
   ]
  },
  {
   "cell_type": "markdown",
   "id": "d0c5053e-a366-41fb-a819-ad4acf533709",
   "metadata": {},
   "source": [
    "## ARIMAX"
   ]
  },
  {
   "cell_type": "code",
   "execution_count": 25,
   "id": "b341dcf8-4ab5-4ba8-a8e6-fba404d3e6c7",
   "metadata": {},
   "outputs": [
    {
     "data": {
      "text/html": [
       "<table class=\"simpletable\">\n",
       "<caption>SARIMAX Results</caption>\n",
       "<tr>\n",
       "  <th>Dep. Variable:</th>     <td>market_value</td>   <th>  No. Observations:  </th>    <td>5021</td>   \n",
       "</tr>\n",
       "<tr>\n",
       "  <th>Model:</th>            <td>ARIMA(1, 1, 1)</td>  <th>  Log Likelihood     </th> <td>-26693.392</td>\n",
       "</tr>\n",
       "<tr>\n",
       "  <th>Date:</th>            <td>Mon, 05 Aug 2024</td> <th>  AIC                </th>  <td>53394.784</td>\n",
       "</tr>\n",
       "<tr>\n",
       "  <th>Time:</th>                <td>00:35:38</td>     <th>  BIC                </th>  <td>53420.869</td>\n",
       "</tr>\n",
       "<tr>\n",
       "  <th>Sample:</th>             <td>01-07-1994</td>    <th>  HQIC               </th>  <td>53403.925</td>\n",
       "</tr>\n",
       "<tr>\n",
       "  <th></th>                   <td>- 04-05-2013</td>   <th>                     </th>      <td> </td>    \n",
       "</tr>\n",
       "<tr>\n",
       "  <th>Covariance Type:</th>        <td>opg</td>       <th>                     </th>      <td> </td>    \n",
       "</tr>\n",
       "</table>\n",
       "<table class=\"simpletable\">\n",
       "<tr>\n",
       "     <td></td>       <th>coef</th>     <th>std err</th>      <th>z</th>      <th>P>|z|</th>  <th>[0.025</th>    <th>0.975]</th>  \n",
       "</tr>\n",
       "<tr>\n",
       "  <th>spx</th>    <td>    2.6928</td> <td>    0.035</td> <td>   76.407</td> <td> 0.000</td> <td>    2.624</td> <td>    2.762</td>\n",
       "</tr>\n",
       "<tr>\n",
       "  <th>ar.L1</th>  <td>    0.2571</td> <td>    0.029</td> <td>    8.812</td> <td> 0.000</td> <td>    0.200</td> <td>    0.314</td>\n",
       "</tr>\n",
       "<tr>\n",
       "  <th>ma.L1</th>  <td>   -0.5460</td> <td>    0.025</td> <td>  -21.791</td> <td> 0.000</td> <td>   -0.595</td> <td>   -0.497</td>\n",
       "</tr>\n",
       "<tr>\n",
       "  <th>sigma2</th> <td> 2433.0771</td> <td>   27.350</td> <td>   88.961</td> <td> 0.000</td> <td> 2379.472</td> <td> 2486.682</td>\n",
       "</tr>\n",
       "</table>\n",
       "<table class=\"simpletable\">\n",
       "<tr>\n",
       "  <th>Ljung-Box (L1) (Q):</th>     <td>0.24</td> <th>  Jarque-Bera (JB):  </th> <td>4423.90</td>\n",
       "</tr>\n",
       "<tr>\n",
       "  <th>Prob(Q):</th>                <td>0.62</td> <th>  Prob(JB):          </th>  <td>0.00</td>  \n",
       "</tr>\n",
       "<tr>\n",
       "  <th>Heteroskedasticity (H):</th> <td>1.25</td> <th>  Skew:              </th>  <td>-0.57</td> \n",
       "</tr>\n",
       "<tr>\n",
       "  <th>Prob(H) (two-sided):</th>    <td>0.00</td> <th>  Kurtosis:          </th>  <td>7.45</td>  \n",
       "</tr>\n",
       "</table><br/><br/>Warnings:<br/>[1] Covariance matrix calculated using the outer product of gradients (complex-step)."
      ],
      "text/latex": [
       "\\begin{center}\n",
       "\\begin{tabular}{lclc}\n",
       "\\toprule\n",
       "\\textbf{Dep. Variable:}          &  market\\_value   & \\textbf{  No. Observations:  } &    5021     \\\\\n",
       "\\textbf{Model:}                  &  ARIMA(1, 1, 1)  & \\textbf{  Log Likelihood     } & -26693.392  \\\\\n",
       "\\textbf{Date:}                   & Mon, 05 Aug 2024 & \\textbf{  AIC                } & 53394.784   \\\\\n",
       "\\textbf{Time:}                   &     00:35:38     & \\textbf{  BIC                } & 53420.869   \\\\\n",
       "\\textbf{Sample:}                 &    01-07-1994    & \\textbf{  HQIC               } & 53403.925   \\\\\n",
       "\\textbf{}                        &   - 04-05-2013   & \\textbf{                     } &             \\\\\n",
       "\\textbf{Covariance Type:}        &       opg        & \\textbf{                     } &             \\\\\n",
       "\\bottomrule\n",
       "\\end{tabular}\n",
       "\\begin{tabular}{lcccccc}\n",
       "                & \\textbf{coef} & \\textbf{std err} & \\textbf{z} & \\textbf{P$> |$z$|$} & \\textbf{[0.025} & \\textbf{0.975]}  \\\\\n",
       "\\midrule\n",
       "\\textbf{spx}    &       2.6928  &        0.035     &    76.407  &         0.000        &        2.624    &        2.762     \\\\\n",
       "\\textbf{ar.L1}  &       0.2571  &        0.029     &     8.812  &         0.000        &        0.200    &        0.314     \\\\\n",
       "\\textbf{ma.L1}  &      -0.5460  &        0.025     &   -21.791  &         0.000        &       -0.595    &       -0.497     \\\\\n",
       "\\textbf{sigma2} &    2433.0771  &       27.350     &    88.961  &         0.000        &     2379.472    &     2486.682     \\\\\n",
       "\\bottomrule\n",
       "\\end{tabular}\n",
       "\\begin{tabular}{lclc}\n",
       "\\textbf{Ljung-Box (L1) (Q):}     & 0.24 & \\textbf{  Jarque-Bera (JB):  } & 4423.90  \\\\\n",
       "\\textbf{Prob(Q):}                & 0.62 & \\textbf{  Prob(JB):          } &   0.00   \\\\\n",
       "\\textbf{Heteroskedasticity (H):} & 1.25 & \\textbf{  Skew:              } &  -0.57   \\\\\n",
       "\\textbf{Prob(H) (two-sided):}    & 0.00 & \\textbf{  Kurtosis:          } &   7.45   \\\\\n",
       "\\bottomrule\n",
       "\\end{tabular}\n",
       "%\\caption{SARIMAX Results}\n",
       "\\end{center}\n",
       "\n",
       "Warnings: \\newline\n",
       " [1] Covariance matrix calculated using the outer product of gradients (complex-step)."
      ],
      "text/plain": [
       "<class 'statsmodels.iolib.summary.Summary'>\n",
       "\"\"\"\n",
       "                               SARIMAX Results                                \n",
       "==============================================================================\n",
       "Dep. Variable:           market_value   No. Observations:                 5021\n",
       "Model:                 ARIMA(1, 1, 1)   Log Likelihood              -26693.392\n",
       "Date:                Mon, 05 Aug 2024   AIC                          53394.784\n",
       "Time:                        00:35:38   BIC                          53420.869\n",
       "Sample:                    01-07-1994   HQIC                         53403.925\n",
       "                         - 04-05-2013                                         \n",
       "Covariance Type:                  opg                                         \n",
       "==============================================================================\n",
       "                 coef    std err          z      P>|z|      [0.025      0.975]\n",
       "------------------------------------------------------------------------------\n",
       "spx            2.6928      0.035     76.407      0.000       2.624       2.762\n",
       "ar.L1          0.2571      0.029      8.812      0.000       0.200       0.314\n",
       "ma.L1         -0.5460      0.025    -21.791      0.000      -0.595      -0.497\n",
       "sigma2      2433.0771     27.350     88.961      0.000    2379.472    2486.682\n",
       "===================================================================================\n",
       "Ljung-Box (L1) (Q):                   0.24   Jarque-Bera (JB):              4423.90\n",
       "Prob(Q):                              0.62   Prob(JB):                         0.00\n",
       "Heteroskedasticity (H):               1.25   Skew:                            -0.57\n",
       "Prob(H) (two-sided):                  0.00   Kurtosis:                         7.45\n",
       "===================================================================================\n",
       "\n",
       "Warnings:\n",
       "[1] Covariance matrix calculated using the outer product of gradients (complex-step).\n",
       "\"\"\""
      ]
     },
     "execution_count": 25,
     "metadata": {},
     "output_type": "execute_result"
    }
   ],
   "source": [
    "model_ar_1_i_1_ma_1_Xspx = ARIMA(df.market_value, exog = df.spx, order=(1,1,1))\n",
    "results_ar_1_i_1_ma_1_Xspx = model_ar_1_i_1_ma_1_Xspx.fit()\n",
    "results_ar_1_i_1_ma_1_Xspx.summary()"
   ]
  },
  {
   "cell_type": "markdown",
   "id": "b8675782-0701-48f4-bee0-5434d6e82804",
   "metadata": {},
   "source": [
    "## SARIMAX"
   ]
  },
  {
   "cell_type": "code",
   "execution_count": 26,
   "id": "29c00d34-7053-40ca-878f-aab5c6ad3609",
   "metadata": {},
   "outputs": [],
   "source": [
    "from statsmodels.tsa.statespace.sarimax import SARIMAX"
   ]
  },
  {
   "cell_type": "code",
   "execution_count": 27,
   "id": "d716f112-b7d6-44f7-96b4-75fab29d232d",
   "metadata": {},
   "outputs": [
    {
     "data": {
      "text/html": [
       "<table class=\"simpletable\">\n",
       "<caption>SARIMAX Results</caption>\n",
       "<tr>\n",
       "  <th>Dep. Variable:</th>           <td>market_value</td>          <th>  No. Observations:  </th>    <td>5021</td>   \n",
       "</tr>\n",
       "<tr>\n",
       "  <th>Model:</th>           <td>SARIMAX(1, 0, 1)x(2, 0, 1, 5)</td> <th>  Log Likelihood     </th> <td>-26712.607</td>\n",
       "</tr>\n",
       "<tr>\n",
       "  <th>Date:</th>                  <td>Mon, 05 Aug 2024</td>        <th>  AIC                </th>  <td>53439.214</td>\n",
       "</tr>\n",
       "<tr>\n",
       "  <th>Time:</th>                      <td>00:35:50</td>            <th>  BIC                </th>  <td>53484.864</td>\n",
       "</tr>\n",
       "<tr>\n",
       "  <th>Sample:</th>                   <td>01-07-1994</td>           <th>  HQIC               </th>  <td>53455.211</td>\n",
       "</tr>\n",
       "<tr>\n",
       "  <th></th>                         <td>- 04-05-2013</td>          <th>                     </th>      <td> </td>    \n",
       "</tr>\n",
       "<tr>\n",
       "  <th>Covariance Type:</th>              <td>opg</td>              <th>                     </th>      <td> </td>    \n",
       "</tr>\n",
       "</table>\n",
       "<table class=\"simpletable\">\n",
       "<tr>\n",
       "      <td></td>        <th>coef</th>     <th>std err</th>      <th>z</th>      <th>P>|z|</th>  <th>[0.025</th>    <th>0.975]</th>  \n",
       "</tr>\n",
       "<tr>\n",
       "  <th>spx</th>      <td>    2.7057</td> <td>    0.035</td> <td>   76.337</td> <td> 0.000</td> <td>    2.636</td> <td>    2.775</td>\n",
       "</tr>\n",
       "<tr>\n",
       "  <th>ar.L1</th>    <td>    0.9998</td> <td>    0.000</td> <td> 2383.076</td> <td> 0.000</td> <td>    0.999</td> <td>    1.001</td>\n",
       "</tr>\n",
       "<tr>\n",
       "  <th>ma.L1</th>    <td>   -0.3109</td> <td>    0.009</td> <td>  -32.786</td> <td> 0.000</td> <td>   -0.330</td> <td>   -0.292</td>\n",
       "</tr>\n",
       "<tr>\n",
       "  <th>ar.S.L5</th>  <td>    0.9661</td> <td>    0.009</td> <td>  102.975</td> <td> 0.000</td> <td>    0.948</td> <td>    0.984</td>\n",
       "</tr>\n",
       "<tr>\n",
       "  <th>ar.S.L10</th> <td>    0.0336</td> <td>    0.009</td> <td>    3.896</td> <td> 0.000</td> <td>    0.017</td> <td>    0.050</td>\n",
       "</tr>\n",
       "<tr>\n",
       "  <th>ma.S.L5</th>  <td>   -0.9989</td> <td>    0.006</td> <td> -165.061</td> <td> 0.000</td> <td>   -1.011</td> <td>   -0.987</td>\n",
       "</tr>\n",
       "<tr>\n",
       "  <th>sigma2</th>   <td> 2439.6642</td> <td>   28.368</td> <td>   86.002</td> <td> 0.000</td> <td> 2384.065</td> <td> 2495.264</td>\n",
       "</tr>\n",
       "</table>\n",
       "<table class=\"simpletable\">\n",
       "<tr>\n",
       "  <th>Ljung-Box (L1) (Q):</th>     <td>1.73</td> <th>  Jarque-Bera (JB):  </th> <td>4207.00</td>\n",
       "</tr>\n",
       "<tr>\n",
       "  <th>Prob(Q):</th>                <td>0.19</td> <th>  Prob(JB):          </th>  <td>0.00</td>  \n",
       "</tr>\n",
       "<tr>\n",
       "  <th>Heteroskedasticity (H):</th> <td>1.23</td> <th>  Skew:              </th>  <td>-0.52</td> \n",
       "</tr>\n",
       "<tr>\n",
       "  <th>Prob(H) (two-sided):</th>    <td>0.00</td> <th>  Kurtosis:          </th>  <td>7.36</td>  \n",
       "</tr>\n",
       "</table><br/><br/>Warnings:<br/>[1] Covariance matrix calculated using the outer product of gradients (complex-step)."
      ],
      "text/latex": [
       "\\begin{center}\n",
       "\\begin{tabular}{lclc}\n",
       "\\toprule\n",
       "\\textbf{Dep. Variable:}          &         market\\_value         & \\textbf{  No. Observations:  } &    5021     \\\\\n",
       "\\textbf{Model:}                  & SARIMAX(1, 0, 1)x(2, 0, 1, 5) & \\textbf{  Log Likelihood     } & -26712.607  \\\\\n",
       "\\textbf{Date:}                   &        Mon, 05 Aug 2024       & \\textbf{  AIC                } & 53439.214   \\\\\n",
       "\\textbf{Time:}                   &            00:35:50           & \\textbf{  BIC                } & 53484.864   \\\\\n",
       "\\textbf{Sample:}                 &           01-07-1994          & \\textbf{  HQIC               } & 53455.211   \\\\\n",
       "\\textbf{}                        &          - 04-05-2013         & \\textbf{                     } &             \\\\\n",
       "\\textbf{Covariance Type:}        &              opg              & \\textbf{                     } &             \\\\\n",
       "\\bottomrule\n",
       "\\end{tabular}\n",
       "\\begin{tabular}{lcccccc}\n",
       "                  & \\textbf{coef} & \\textbf{std err} & \\textbf{z} & \\textbf{P$> |$z$|$} & \\textbf{[0.025} & \\textbf{0.975]}  \\\\\n",
       "\\midrule\n",
       "\\textbf{spx}      &       2.7057  &        0.035     &    76.337  &         0.000        &        2.636    &        2.775     \\\\\n",
       "\\textbf{ar.L1}    &       0.9998  &        0.000     &  2383.076  &         0.000        &        0.999    &        1.001     \\\\\n",
       "\\textbf{ma.L1}    &      -0.3109  &        0.009     &   -32.786  &         0.000        &       -0.330    &       -0.292     \\\\\n",
       "\\textbf{ar.S.L5}  &       0.9661  &        0.009     &   102.975  &         0.000        &        0.948    &        0.984     \\\\\n",
       "\\textbf{ar.S.L10} &       0.0336  &        0.009     &     3.896  &         0.000        &        0.017    &        0.050     \\\\\n",
       "\\textbf{ma.S.L5}  &      -0.9989  &        0.006     &  -165.061  &         0.000        &       -1.011    &       -0.987     \\\\\n",
       "\\textbf{sigma2}   &    2439.6642  &       28.368     &    86.002  &         0.000        &     2384.065    &     2495.264     \\\\\n",
       "\\bottomrule\n",
       "\\end{tabular}\n",
       "\\begin{tabular}{lclc}\n",
       "\\textbf{Ljung-Box (L1) (Q):}     & 1.73 & \\textbf{  Jarque-Bera (JB):  } & 4207.00  \\\\\n",
       "\\textbf{Prob(Q):}                & 0.19 & \\textbf{  Prob(JB):          } &   0.00   \\\\\n",
       "\\textbf{Heteroskedasticity (H):} & 1.23 & \\textbf{  Skew:              } &  -0.52   \\\\\n",
       "\\textbf{Prob(H) (two-sided):}    & 0.00 & \\textbf{  Kurtosis:          } &   7.36   \\\\\n",
       "\\bottomrule\n",
       "\\end{tabular}\n",
       "%\\caption{SARIMAX Results}\n",
       "\\end{center}\n",
       "\n",
       "Warnings: \\newline\n",
       " [1] Covariance matrix calculated using the outer product of gradients (complex-step)."
      ],
      "text/plain": [
       "<class 'statsmodels.iolib.summary.Summary'>\n",
       "\"\"\"\n",
       "                                     SARIMAX Results                                     \n",
       "=========================================================================================\n",
       "Dep. Variable:                      market_value   No. Observations:                 5021\n",
       "Model:             SARIMAX(1, 0, 1)x(2, 0, 1, 5)   Log Likelihood              -26712.607\n",
       "Date:                           Mon, 05 Aug 2024   AIC                          53439.214\n",
       "Time:                                   00:35:50   BIC                          53484.864\n",
       "Sample:                               01-07-1994   HQIC                         53455.211\n",
       "                                    - 04-05-2013                                         \n",
       "Covariance Type:                             opg                                         \n",
       "==============================================================================\n",
       "                 coef    std err          z      P>|z|      [0.025      0.975]\n",
       "------------------------------------------------------------------------------\n",
       "spx            2.7057      0.035     76.337      0.000       2.636       2.775\n",
       "ar.L1          0.9998      0.000   2383.076      0.000       0.999       1.001\n",
       "ma.L1         -0.3109      0.009    -32.786      0.000      -0.330      -0.292\n",
       "ar.S.L5        0.9661      0.009    102.975      0.000       0.948       0.984\n",
       "ar.S.L10       0.0336      0.009      3.896      0.000       0.017       0.050\n",
       "ma.S.L5       -0.9989      0.006   -165.061      0.000      -1.011      -0.987\n",
       "sigma2      2439.6642     28.368     86.002      0.000    2384.065    2495.264\n",
       "===================================================================================\n",
       "Ljung-Box (L1) (Q):                   1.73   Jarque-Bera (JB):              4207.00\n",
       "Prob(Q):                              0.19   Prob(JB):                         0.00\n",
       "Heteroskedasticity (H):               1.23   Skew:                            -0.52\n",
       "Prob(H) (two-sided):                  0.00   Kurtosis:                         7.36\n",
       "===================================================================================\n",
       "\n",
       "Warnings:\n",
       "[1] Covariance matrix calculated using the outer product of gradients (complex-step).\n",
       "\"\"\""
      ]
     },
     "execution_count": 27,
     "metadata": {},
     "output_type": "execute_result"
    }
   ],
   "source": [
    "model_sarimax = SARIMAX(df.market_value, exog = df.spx, order=(1,0,1), seasonal_order = (2,0,1,5))\n",
    "results_sarimax = model_sarimax.fit()\n",
    "results_sarimax.summary()"
   ]
  }
 ],
 "metadata": {
  "kernelspec": {
   "display_name": "Python 3 (ipykernel)",
   "language": "python",
   "name": "python3"
  },
  "language_info": {
   "codemirror_mode": {
    "name": "ipython",
    "version": 3
   },
   "file_extension": ".py",
   "mimetype": "text/x-python",
   "name": "python",
   "nbconvert_exporter": "python",
   "pygments_lexer": "ipython3",
   "version": "3.12.1"
  }
 },
 "nbformat": 4,
 "nbformat_minor": 5
}
