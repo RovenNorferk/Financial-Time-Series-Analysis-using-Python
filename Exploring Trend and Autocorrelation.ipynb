{
 "cells": [
  {
   "cell_type": "markdown",
   "id": "8a1b0fb2-a670-4279-b613-faf1ccc7ec72",
   "metadata": {},
   "source": [
    "## Relevant Packages"
   ]
  },
  {
   "cell_type": "code",
   "execution_count": 1,
   "id": "fc5bca50-63b9-4705-a9ed-19d92815b145",
   "metadata": {},
   "outputs": [],
   "source": [
    "import pandas as pd \n",
    "import numpy as np \n",
    "import matplotlib.pyplot as plt \n",
    "import statsmodels.graphics.tsaplots as sgt \n",
    "import statsmodels.tsa.stattools as sts \n",
    "from statsmodels.tsa.seasonal import seasonal_decompose\n",
    "import seaborn as sns\n",
    "sns.set()"
   ]
  },
  {
   "cell_type": "markdown",
   "id": "099f5f61-3c8b-423f-a895-431e81645edd",
   "metadata": {},
   "source": [
    "## Loading and Transforming the Data"
   ]
  },
  {
   "cell_type": "code",
   "execution_count": 2,
   "id": "44ce1d57-fbb6-4872-ada0-d70057f68adc",
   "metadata": {},
   "outputs": [],
   "source": [
    "raw_csv_data=pd.read_csv(\"https://raw.githubusercontent.com/a7madmostafa/365datascience/master/20%20-%20Time%20Series%20Analysis%20in%20Python/3_Introduction%20to%20Time%20Series%20in%20Python/1_Introduction%20to%20Time%20Series%20Data%20(3%3A56)/Index2018.csv\") \n",
    "df_comp=raw_csv_data.copy()\n",
    "df_comp.date = pd.to_datetime(df_comp.date, dayfirst = True)\n",
    "df_comp.set_index(\"date\", inplace=True)\n",
    "df_comp=df_comp.asfreq('b')\n",
    "df_comp=df_comp.ffill()"
   ]
  },
  {
   "cell_type": "code",
   "execution_count": 3,
   "id": "3d01a314-1ca5-4d3d-83ef-c922ac48b646",
   "metadata": {},
   "outputs": [
    {
     "data": {
      "text/html": [
       "<div>\n",
       "<style scoped>\n",
       "    .dataframe tbody tr th:only-of-type {\n",
       "        vertical-align: middle;\n",
       "    }\n",
       "\n",
       "    .dataframe tbody tr th {\n",
       "        vertical-align: top;\n",
       "    }\n",
       "\n",
       "    .dataframe thead th {\n",
       "        text-align: right;\n",
       "    }\n",
       "</style>\n",
       "<table border=\"1\" class=\"dataframe\">\n",
       "  <thead>\n",
       "    <tr style=\"text-align: right;\">\n",
       "      <th></th>\n",
       "      <th>spx</th>\n",
       "      <th>dax</th>\n",
       "      <th>ftse</th>\n",
       "      <th>nikkei</th>\n",
       "    </tr>\n",
       "    <tr>\n",
       "      <th>date</th>\n",
       "      <th></th>\n",
       "      <th></th>\n",
       "      <th></th>\n",
       "      <th></th>\n",
       "    </tr>\n",
       "  </thead>\n",
       "  <tbody>\n",
       "    <tr>\n",
       "      <th>1994-01-07</th>\n",
       "      <td>469.90</td>\n",
       "      <td>2224.95</td>\n",
       "      <td>3445.98</td>\n",
       "      <td>18124.01</td>\n",
       "    </tr>\n",
       "    <tr>\n",
       "      <th>1994-01-10</th>\n",
       "      <td>475.27</td>\n",
       "      <td>2225.00</td>\n",
       "      <td>3440.58</td>\n",
       "      <td>18443.44</td>\n",
       "    </tr>\n",
       "    <tr>\n",
       "      <th>1994-01-11</th>\n",
       "      <td>474.13</td>\n",
       "      <td>2228.10</td>\n",
       "      <td>3413.77</td>\n",
       "      <td>18485.25</td>\n",
       "    </tr>\n",
       "    <tr>\n",
       "      <th>1994-01-12</th>\n",
       "      <td>474.17</td>\n",
       "      <td>2182.06</td>\n",
       "      <td>3372.02</td>\n",
       "      <td>18793.88</td>\n",
       "    </tr>\n",
       "    <tr>\n",
       "      <th>1994-01-13</th>\n",
       "      <td>472.47</td>\n",
       "      <td>2142.37</td>\n",
       "      <td>3360.01</td>\n",
       "      <td>18577.26</td>\n",
       "    </tr>\n",
       "  </tbody>\n",
       "</table>\n",
       "</div>"
      ],
      "text/plain": [
       "               spx      dax     ftse    nikkei\n",
       "date                                          \n",
       "1994-01-07  469.90  2224.95  3445.98  18124.01\n",
       "1994-01-10  475.27  2225.00  3440.58  18443.44\n",
       "1994-01-11  474.13  2228.10  3413.77  18485.25\n",
       "1994-01-12  474.17  2182.06  3372.02  18793.88\n",
       "1994-01-13  472.47  2142.37  3360.01  18577.26"
      ]
     },
     "execution_count": 3,
     "metadata": {},
     "output_type": "execute_result"
    }
   ],
   "source": [
    "df_comp.head()"
   ]
  },
  {
   "cell_type": "markdown",
   "id": "1b7a0ff7-b01c-4669-a456-00817dec84d0",
   "metadata": {},
   "source": [
    "## Removing Surplus Data\n"
   ]
  },
  {
   "cell_type": "code",
   "execution_count": 4,
   "id": "dc1f7b7f-401e-459f-bb34-a852ca2b8e4c",
   "metadata": {},
   "outputs": [],
   "source": [
    "df_comp.rename(columns={'spx': 'market_value'}, inplace=True)\n",
    "del df_comp['dax']\n",
    "del df_comp['ftse']\n",
    "del df_comp['nikkei']\n",
    "size = int(len(df_comp)*0.8)\n",
    "df_train, df_test = df_comp.iloc[:size], df_comp.iloc[size:]"
   ]
  },
  {
   "cell_type": "markdown",
   "id": "94009489-d5e8-499e-9daa-358ac9d9f8a3",
   "metadata": {},
   "source": [
    "## White Noise"
   ]
  },
  {
   "cell_type": "code",
   "execution_count": 5,
   "id": "8e00164b-fe88-4c69-8deb-fec8860e8fda",
   "metadata": {},
   "outputs": [
    {
     "ename": "NameError",
     "evalue": "name 'df' is not defined",
     "output_type": "error",
     "traceback": [
      "\u001b[1;31m---------------------------------------------------------------------------\u001b[0m",
      "\u001b[1;31mNameError\u001b[0m                                 Traceback (most recent call last)",
      "Cell \u001b[1;32mIn[5], line 1\u001b[0m\n\u001b[1;32m----> 1\u001b[0m wn \u001b[38;5;241m=\u001b[39m np\u001b[38;5;241m.\u001b[39mrandom\u001b[38;5;241m.\u001b[39mnormal(loc \u001b[38;5;241m=\u001b[39m \u001b[43mdf\u001b[49m\u001b[38;5;241m.\u001b[39mmarket_value\u001b[38;5;241m.\u001b[39mmean(), scale \u001b[38;5;241m=\u001b[39m df\u001b[38;5;241m.\u001b[39mmarket_value\u001b[38;5;241m.\u001b[39mstd(), size \u001b[38;5;241m=\u001b[39m \u001b[38;5;28mlen\u001b[39m(df))\n",
      "\u001b[1;31mNameError\u001b[0m: name 'df' is not defined"
     ]
    }
   ],
   "source": [
    "wn = np.random.normal(loc = df.market_value.mean(), scale = df.market_value.std(), size = len(df))"
   ]
  },
  {
   "cell_type": "code",
   "execution_count": null,
   "id": "690d048b-46fe-431b-9598-1cd3a65a8b43",
   "metadata": {},
   "outputs": [],
   "source": [
    "df_train.loc[:, 'wn'] = wn"
   ]
  },
  {
   "cell_type": "code",
   "execution_count": null,
   "id": "f805554f-b288-4c41-b4d5-631e991bb80a",
   "metadata": {},
   "outputs": [],
   "source": [
    "df_train.describe()"
   ]
  },
  {
   "cell_type": "code",
   "execution_count": null,
   "id": "6d23ceaf-51f7-4562-9a71-288da0df937b",
   "metadata": {},
   "outputs": [],
   "source": [
    "df_train.wn.plot(figsize = (20,5))\n",
    "plt.title(\"White Noise Time-Series\", size= 24)\n",
    "plt.show()"
   ]
  },
  {
   "cell_type": "code",
   "execution_count": null,
   "id": "9351253f-de17-4918-a37e-1341628fc5d1",
   "metadata": {},
   "outputs": [],
   "source": [
    "df_train.market_value.plot(figsize=(20,5))\n",
    "plt.title(\"S&P Prices\", size = 24)\n",
    "plt.ylim(0,2300)\n",
    "plt.show()"
   ]
  },
  {
   "cell_type": "markdown",
   "id": "b5ae4371-8b20-4408-8d64-2391c640986a",
   "metadata": {},
   "source": [
    "## Random Walk"
   ]
  },
  {
   "cell_type": "code",
   "execution_count": null,
   "id": "1d2636ea-4c4e-40b1-8351-8bc100c07b5c",
   "metadata": {},
   "outputs": [],
   "source": [
    "rw = pd.read_csv(\"https://raw.githubusercontent.com/a7madmostafa/365datascience/master/20%20-%20Time%20Series%20Analysis%20in%20Python/5_Working%20with%20Time%20Series%20in%20Python/2_Random%20Walk%20(5%3A31)/RandWalk.csv\")\n",
    "rw.date = pd.to_datetime(rw.date, dayfirst = True)\n",
    "rw.set_index(\"date\", inplace = True)\n",
    "rw = rw.asfreq('b')"
   ]
  },
  {
   "cell_type": "code",
   "execution_count": null,
   "id": "da587dff-4ea8-47ab-b050-ac2d458b4e11",
   "metadata": {},
   "outputs": [],
   "source": [
    "rw.describe()"
   ]
  },
  {
   "cell_type": "code",
   "execution_count": null,
   "id": "5217a8a6-bab6-46ed-bc9c-8e8f5e040c14",
   "metadata": {},
   "outputs": [],
   "source": [
    "df_train.loc[:, 'rw'] = rw['price']"
   ]
  },
  {
   "cell_type": "code",
   "execution_count": null,
   "id": "f050016a-03ae-4b49-97f1-15d7678b3700",
   "metadata": {},
   "outputs": [],
   "source": [
    "df_train.head()"
   ]
  },
  {
   "cell_type": "code",
   "execution_count": null,
   "id": "36494b35-987e-4b4c-b56e-47a0c442c957",
   "metadata": {},
   "outputs": [],
   "source": [
    "df_train.rw.plot(figsize = (20,5))\n",
    "df_train.market_value.plot()\n",
    "plt.title(\"Random Walk vs S&P\", size = 24)\n",
    "plt.show()"
   ]
  },
  {
   "cell_type": "markdown",
   "id": "7e94ba65-fed0-4e8a-96c9-6e8293ef1d00",
   "metadata": {},
   "source": [
    "## Stationarity"
   ]
  },
  {
   "cell_type": "code",
   "execution_count": null,
   "id": "aa2a0b5e-fa3a-4689-a9c9-16df984af267",
   "metadata": {},
   "outputs": [],
   "source": [
    "sts.adfuller(df_train.market_value)"
   ]
  },
  {
   "cell_type": "code",
   "execution_count": null,
   "id": "f1432be1-4931-44a1-be97-0280252bb695",
   "metadata": {},
   "outputs": [],
   "source": [
    "sts.adfuller(df_train.wn)"
   ]
  },
  {
   "cell_type": "code",
   "execution_count": null,
   "id": "8a88140c-d1a9-4a33-9ba5-5035ae55030c",
   "metadata": {},
   "outputs": [],
   "source": [
    "sts.adfuller(df_train.rw)"
   ]
  },
  {
   "cell_type": "markdown",
   "id": "18c17540-2675-4c8f-9708-869d011e7d7e",
   "metadata": {},
   "source": [
    "## Seasonality"
   ]
  },
  {
   "cell_type": "code",
   "execution_count": null,
   "id": "645e9de0-5cf7-45aa-b846-471a80e8fa5c",
   "metadata": {},
   "outputs": [],
   "source": [
    "s_dec_additive = seasonal_decompose(df_train.market_value, model = \"additive\")\n",
    "fig, (ax1, ax2, ax3, ax4) = plt.subplots(4, 1, figsize=(20, 10), sharex=True)\n",
    "s_dec_additive.observed.plot(ax=ax1)\n",
    "ax1.set_ylabel('Observed')\n",
    "s_dec_additive.trend.plot(ax=ax2)\n",
    "ax2.set_ylabel('Trend')\n",
    "s_dec_additive.seasonal.plot(ax=ax3)\n",
    "ax3.set_ylabel('Seasonal')\n",
    "s_dec_additive.resid.plot(ax=ax4)\n",
    "ax4.set_ylabel('Residual')\n",
    "ax4.set_ylim(-50, 50)\n",
    "\n",
    "plt.show()"
   ]
  },
  {
   "cell_type": "code",
   "execution_count": null,
   "id": "1ab31915-733f-437b-861e-76b4ef1cda24",
   "metadata": {},
   "outputs": [],
   "source": [
    "s_dec_multiplicative = seasonal_decompose(df_train.market_value, model = \"multiplicative\")\n",
    "fig, (ax1, ax2, ax3, ax4) = plt.subplots(4, 1, figsize=(20, 10), sharex=True)\n",
    "s_dec_multiplicative.observed.plot(ax=ax1)\n",
    "ax1.set_ylabel('Observed')\n",
    "s_dec_multiplicative.trend.plot(ax=ax2)\n",
    "ax2.set_ylabel('Trend')\n",
    "s_dec_multiplicative.seasonal.plot(ax=ax3)\n",
    "ax3.set_ylabel('Seasonal')\n",
    "s_dec_multiplicative.resid.plot(ax=ax4)\n",
    "ax4.set_ylabel('Residual')\n",
    "ax4.set_ylim(0.95, 1.05)\n",
    "\n",
    "plt.show()"
   ]
  },
  {
   "cell_type": "markdown",
   "id": "eec0147a-e1df-4e02-8ce2-9ecbb76118ec",
   "metadata": {},
   "source": [
    "## ACF"
   ]
  },
  {
   "cell_type": "code",
   "execution_count": null,
   "id": "c8738bac-6116-4315-bd5f-9dec2e79db55",
   "metadata": {},
   "outputs": [],
   "source": [
    "sgt.plot_acf(df_train.market_value, lags = 40, zero = False)\n",
    "plt.title(\"ACF S&P\", size = 24)\n",
    "plt.ylim(-0.5,1.5)\n",
    "plt.show()"
   ]
  },
  {
   "cell_type": "code",
   "execution_count": null,
   "id": "2eb52ee0-96df-4d79-8766-e271ffbccfa4",
   "metadata": {},
   "outputs": [],
   "source": [
    "sgt.plot_acf(df_train.wn, lags = 40, zero = False)\n",
    "plt.title(\"ACF WN\", size = 24)\n",
    "plt.ylim(-0.25,0.25)\n",
    "plt.show()"
   ]
  },
  {
   "cell_type": "code",
   "execution_count": null,
   "id": "c7b78497-071e-434b-8088-bf875020af2e",
   "metadata": {},
   "outputs": [],
   "source": [
    "sgt.plot_acf(df_train.rw, lags = 40, zero = False)\n",
    "plt.title(\"ACF RW\", size = 24)\n",
    "plt.ylim(-0.5,1.5)\n",
    "plt.show()"
   ]
  },
  {
   "cell_type": "markdown",
   "id": "b2acb282-dd6a-4799-bd81-252fc0869a2f",
   "metadata": {},
   "source": [
    "## PACF"
   ]
  },
  {
   "cell_type": "code",
   "execution_count": null,
   "id": "40375dc7-435b-4653-8c85-e5078d080e6c",
   "metadata": {},
   "outputs": [],
   "source": [
    "sgt.plot_pacf(df_train.market_value, lags = 40, zero = False, method = ('ols'))\n",
    "plt.title(\"PACF S&P\", size = 24)\n",
    "plt.ylim(-0.5,1.5)\n",
    "plt.show()"
   ]
  },
  {
   "cell_type": "code",
   "execution_count": null,
   "id": "1e1b90ae-1cf2-469d-975a-91b7a623e7be",
   "metadata": {},
   "outputs": [],
   "source": [
    "sgt.plot_pacf(df_train.wn, lags = 40, zero = False, method = ('ols'))\n",
    "plt.title(\"PACF WN\", size = 24)\n",
    "plt.ylim(-0.25,0.25)\n",
    "plt.show()"
   ]
  },
  {
   "cell_type": "code",
   "execution_count": null,
   "id": "ef38a94f-b16a-48a7-bbc6-458d4ff383d5",
   "metadata": {},
   "outputs": [],
   "source": [
    "sgt.plot_pacf(df_train.rw, lags = 40, zero = False)\n",
    "plt.title(\"PACF RW\", size = 24)\n",
    "plt.ylim(-0.5,1.5)\n",
    "plt.show()"
   ]
  }
 ],
 "metadata": {
  "kernelspec": {
   "display_name": "Python 3 (ipykernel)",
   "language": "python",
   "name": "python3"
  },
  "language_info": {
   "codemirror_mode": {
    "name": "ipython",
    "version": 3
   },
   "file_extension": ".py",
   "mimetype": "text/x-python",
   "name": "python",
   "nbconvert_exporter": "python",
   "pygments_lexer": "ipython3",
   "version": "3.12.1"
  }
 },
 "nbformat": 4,
 "nbformat_minor": 5
}
